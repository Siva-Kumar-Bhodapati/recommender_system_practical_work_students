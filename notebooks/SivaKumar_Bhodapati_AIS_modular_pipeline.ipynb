{
  "nbformat": 4,
  "nbformat_minor": 0,
  "metadata": {
    "kernelspec": {
      "display_name": "Python 3",
      "language": "python",
      "name": "python3"
    },
    "language_info": {
      "codemirror_mode": {
        "name": "ipython",
        "version": 3
      },
      "file_extension": ".py",
      "mimetype": "text/x-python",
      "name": "python",
      "nbconvert_exporter": "python",
      "pygments_lexer": "ipython3",
      "version": "3.8.3"
    },
    "toc": {
      "base_numbering": 1,
      "nav_menu": {},
      "number_sections": true,
      "sideBar": true,
      "skip_h1_title": false,
      "title_cell": "Table of Contents",
      "title_sidebar": "Contents",
      "toc_cell": false,
      "toc_position": {},
      "toc_section_display": true,
      "toc_window_display": false
    },
    "colab": {
      "name": "SivaKumar_Bhodapati_AIS_modular_pipeline.ipynb",
      "provenance": [],
      "collapsed_sections": [
        "Uc-YSUPuXGPD",
        "Byse0ynWXGPF",
        "WURfabGfXGPG",
        "EWcKiX-DXGPI",
        "iLzjUDU2XGPJ",
        "4luIgoUdXGPK",
        "Id8dMj13XGPL"
      ]
    }
  },
  "cells": [
    {
      "cell_type": "markdown",
      "metadata": {
        "id": "O8QYK28kXGO9"
      },
      "source": [
        "- Surprise package documentation : https://surprise.readthedocs.io/en/stable/"
      ]
    },
    {
      "cell_type": "markdown",
      "metadata": {
        "id": "_WKfNvW3XGO-"
      },
      "source": [
        "# Instructions\n",
        "For this assignment, you will be using the modular pipeline code that we've implemented in the previous session (https://github.com/EPITA-RecSys/recsys-ais-20/blob/master/notebooks/AIS_model-pipeline.ipynb)\n",
        "\n",
        "You need to do the following tasks :\n",
        "### Implement the evaluate and benchmarking_pipeline functions\n",
        "### Extract the notebook functions in a python module and use them directly in a new notebook\n",
        "- Create a folder in the root directory called recsys.\n",
        "- In this folder, create a python module pipeline.py.\n",
        "- Extract the different functions of the AIS_model-pipeline.ipynb notebook in this new module (pipeline.py).\n",
        "- Create a new notebook where you will use the extracted benchmarking_pipeline function to do the benchamrking.\n",
        "\n",
        "### Do the benchmarking of the 5 already used models along with NMF, SVD and SVD++ surprise algorithms.\n",
        "\n",
        "## Bonus (+1 point) :\n",
        "- Generalize the train function to use any surprise model kwargs and not only the KNN model.\n",
        "\n",
        "### Note :\n",
        "If in the 1st assignment you didn't manage to do the benchmarking with bar charts, you can do it for this assignment and it will be taken into account to improve your grade for the 1st assignment."
      ]
    },
    {
      "cell_type": "markdown",
      "metadata": {
        "id": "VuuAmdskXGO_"
      },
      "source": [
        "# Pipeline"
      ]
    },
    {
      "cell_type": "markdown",
      "metadata": {
        "id": "-5CTDyR7XGO_"
      },
      "source": [
        "# 1. Load data using load_builtin method"
      ]
    },
    {
      "cell_type": "code",
      "metadata": {
        "id": "qKWfDU-1XGPA"
      },
      "source": [
        "# Importing files from parent directory\n",
        "import os, sys\n",
        "currentdir = os.path.dirname(os.path.realpath(\"pipeline.py\"))\n",
        "parentdir = os.path.dirname(currentdir)\n",
        "sys.path.append(parentdir)"
      ],
      "execution_count": 1,
      "outputs": []
    },
    {
      "cell_type": "code",
      "metadata": {
        "colab": {
          "base_uri": "https://localhost:8080/"
        },
        "id": "h6w8vWJHXGPA",
        "outputId": "16cedb17-3bef-469f-9674-0f3511d755d0"
      },
      "source": [
        "from recsys.pipeline import pipeline\n",
        "pipelineObj = pipeline()\n",
        "ratings = pipelineObj.get_ratings(load_from_surprise=True)\n",
        "ratings"
      ],
      "execution_count": 5,
      "outputs": [
        {
          "output_type": "stream",
          "text": [
            "Dataset ml-100k could not be found. Do you want to download it? [Y/n] Y\n",
            "Trying to download dataset from http://files.grouplens.org/datasets/movielens/ml-100k.zip...\n",
            "Done! Dataset ml-100k has been saved to /root/.surprise_data/ml-100k\n"
          ],
          "name": "stdout"
        },
        {
          "output_type": "execute_result",
          "data": {
            "text/plain": [
              "<surprise.dataset.DatasetAutoFolds at 0x7ff28f07d550>"
            ]
          },
          "metadata": {
            "tags": []
          },
          "execution_count": 5
        }
      ]
    },
    {
      "cell_type": "code",
      "metadata": {
        "colab": {
          "base_uri": "https://localhost:8080/"
        },
        "id": "OT1M7XYwXpZA",
        "outputId": "573c12fe-4279-44ac-ba97-133cfae20086"
      },
      "source": [
        "!pip install surprise"
      ],
      "execution_count": 3,
      "outputs": [
        {
          "output_type": "stream",
          "text": [
            "Collecting surprise\n",
            "  Downloading https://files.pythonhosted.org/packages/61/de/e5cba8682201fcf9c3719a6fdda95693468ed061945493dea2dd37c5618b/surprise-0.1-py2.py3-none-any.whl\n",
            "Collecting scikit-surprise\n",
            "\u001b[?25l  Downloading https://files.pythonhosted.org/packages/97/37/5d334adaf5ddd65da99fc65f6507e0e4599d092ba048f4302fe8775619e8/scikit-surprise-1.1.1.tar.gz (11.8MB)\n",
            "\u001b[K     |████████████████████████████████| 11.8MB 9.7MB/s \n",
            "\u001b[?25hRequirement already satisfied: joblib>=0.11 in /usr/local/lib/python3.6/dist-packages (from scikit-surprise->surprise) (1.0.0)\n",
            "Requirement already satisfied: numpy>=1.11.2 in /usr/local/lib/python3.6/dist-packages (from scikit-surprise->surprise) (1.19.5)\n",
            "Requirement already satisfied: scipy>=1.0.0 in /usr/local/lib/python3.6/dist-packages (from scikit-surprise->surprise) (1.4.1)\n",
            "Requirement already satisfied: six>=1.10.0 in /usr/local/lib/python3.6/dist-packages (from scikit-surprise->surprise) (1.15.0)\n",
            "Building wheels for collected packages: scikit-surprise\n",
            "  Building wheel for scikit-surprise (setup.py) ... \u001b[?25l\u001b[?25hdone\n",
            "  Created wheel for scikit-surprise: filename=scikit_surprise-1.1.1-cp36-cp36m-linux_x86_64.whl size=1618275 sha256=26d9555810001140d3fc18bdf43c3f9508df64229be4a985167e9704e1ceb4b0\n",
            "  Stored in directory: /root/.cache/pip/wheels/78/9c/3d/41b419c9d2aff5b6e2b4c0fc8d25c538202834058f9ed110d0\n",
            "Successfully built scikit-surprise\n",
            "Installing collected packages: scikit-surprise, surprise\n",
            "Successfully installed scikit-surprise-1.1.1 surprise-0.1\n"
          ],
          "name": "stdout"
        }
      ]
    },
    {
      "cell_type": "code",
      "metadata": {
        "id": "Mxl5Hx5WXXdL"
      },
      "source": [
        "from pipeline import pipeline"
      ],
      "execution_count": 4,
      "outputs": []
    },
    {
      "cell_type": "markdown",
      "metadata": {
        "id": "XSB8sBJNXGPB"
      },
      "source": [
        "#  Splitting data "
      ]
    },
    {
      "cell_type": "code",
      "metadata": {
        "id": "ZG0GhJymXGPB"
      },
      "source": [
        "from surprise.model_selection import train_test_split\n",
        "\n",
        "trainset, testset = train_test_split(ratings, test_size=.2, random_state=42)\n"
      ],
      "execution_count": 6,
      "outputs": []
    },
    {
      "cell_type": "markdown",
      "metadata": {
        "id": "eb4INPYQXGPB"
      },
      "source": [
        "# 2. Model"
      ]
    },
    {
      "cell_type": "markdown",
      "metadata": {
        "id": "2Sp9J5iyXGPB"
      },
      "source": [
        "## 2.1 User based model using cosine similarity"
      ]
    },
    {
      "cell_type": "markdown",
      "metadata": {
        "id": "cGPF9XF_XGPC"
      },
      "source": [
        "## Training"
      ]
    },
    {
      "cell_type": "code",
      "metadata": {
        "id": "f6xn6zU2XGPC"
      },
      "source": [
        "from surprise.prediction_algorithms.knns import KNNBasic\n",
        "from surprise.prediction_algorithms.baseline_only import BaselineOnly \n",
        "from surprise.prediction_algorithms.matrix_factorization import NMF \n",
        "from surprise.prediction_algorithms.matrix_factorization import SVD \n",
        "from surprise.prediction_algorithms.matrix_factorization import SVDpp"
      ],
      "execution_count": 7,
      "outputs": []
    },
    {
      "cell_type": "code",
      "metadata": {
        "id": "pgSRev1UXGPC"
      },
      "source": [
        "sim_options_UserBased_Cosine = {'name': 'cosine',\n",
        "                                'user_based': True  # compute  similarities between user-base\n",
        "                               }"
      ],
      "execution_count": 8,
      "outputs": []
    },
    {
      "cell_type": "code",
      "metadata": {
        "id": "DTdkleAmXGPC"
      },
      "source": [
        "UserBased_Cosine_KNNBasic = pipelineObj.set_model_parameters(KNNBasic, sim_options=sim_options_UserBased_Cosine, k=40, min_k=1)"
      ],
      "execution_count": 9,
      "outputs": []
    },
    {
      "cell_type": "code",
      "metadata": {
        "colab": {
          "base_uri": "https://localhost:8080/"
        },
        "id": "JMmZyYIkXGPC",
        "outputId": "63dc1403-b928-415d-a1be-d600ccd6598d"
      },
      "source": [
        "time_UserBased_Cosine_KNNBasic, UserBased_Cosine_KNNBasic = pipelineObj.evaluate_time_and_train(UserBased_Cosine_KNNBasic, trainset)"
      ],
      "execution_count": 10,
      "outputs": [
        {
          "output_type": "stream",
          "text": [
            "Computing the cosine similarity matrix...\n",
            "Done computing similarity matrix.\n"
          ],
          "name": "stdout"
        }
      ]
    },
    {
      "cell_type": "markdown",
      "metadata": {
        "id": "8CKVwzlpXGPD"
      },
      "source": [
        "## Prediction"
      ]
    },
    {
      "cell_type": "code",
      "metadata": {
        "colab": {
          "base_uri": "https://localhost:8080/"
        },
        "id": "XSC3Z0j0XGPD",
        "outputId": "04ad1bd6-884e-443d-91c9-b2142121b6d6"
      },
      "source": [
        "UserBased_Cosine_KNNBasic_predictions = pipelineObj.model_prediction(UserBased_Cosine_KNNBasic, testset)\n",
        "UserBased_Cosine_KNNBasic_predictions[:5]"
      ],
      "execution_count": 11,
      "outputs": [
        {
          "output_type": "execute_result",
          "data": {
            "text/plain": [
              "[Prediction(uid='907', iid='143', r_ui=5.0, est=3.9988806593226958, details={'actual_k': 40, 'was_impossible': False}),\n",
              " Prediction(uid='371', iid='210', r_ui=4.0, est=4.024195267809441, details={'actual_k': 40, 'was_impossible': False}),\n",
              " Prediction(uid='218', iid='42', r_ui=4.0, est=3.920863971521688, details={'actual_k': 40, 'was_impossible': False}),\n",
              " Prediction(uid='829', iid='170', r_ui=4.0, est=4.275899932331823, details={'actual_k': 40, 'was_impossible': False}),\n",
              " Prediction(uid='733', iid='277', r_ui=1.0, est=3.37542669272407, details={'actual_k': 40, 'was_impossible': False})]"
            ]
          },
          "metadata": {
            "tags": []
          },
          "execution_count": 11
        }
      ]
    },
    {
      "cell_type": "markdown",
      "metadata": {
        "id": "4PaTFUU9XGPD"
      },
      "source": [
        "## Evaluate"
      ]
    },
    {
      "cell_type": "code",
      "metadata": {
        "colab": {
          "base_uri": "https://localhost:8080/"
        },
        "id": "vNPf28sQXGPD",
        "outputId": "9775d481-6612-443e-db18-8592fdc18f38"
      },
      "source": [
        "rmse_UserBased_Cosine_KNNBasic, mae_UserBased_Cosine_KNNBasic = pipelineObj.evaluate_model_rmse_and_mae(UserBased_Cosine_KNNBasic_predictions)"
      ],
      "execution_count": 12,
      "outputs": [
        {
          "output_type": "stream",
          "text": [
            "RMSE: 1.0194\n",
            "MAE:  0.8038\n"
          ],
          "name": "stdout"
        }
      ]
    },
    {
      "cell_type": "markdown",
      "metadata": {
        "id": "Uc-YSUPuXGPD"
      },
      "source": [
        "## 2.2 user based model using pearson correlation similarity"
      ]
    },
    {
      "cell_type": "markdown",
      "metadata": {
        "id": "afTA2KNxXGPD"
      },
      "source": [
        "## Training"
      ]
    },
    {
      "cell_type": "code",
      "metadata": {
        "id": "BuKkc8E_XGPE"
      },
      "source": [
        "sim_options_UserBased_PearsonCorrelation = {'name': 'pearson_baseline',\n",
        "                                            'user_based': True  # compute similarities between user-base\n",
        "                               }"
      ],
      "execution_count": 13,
      "outputs": []
    },
    {
      "cell_type": "code",
      "metadata": {
        "id": "GEK24UhTXGPE"
      },
      "source": [
        "UserBased_PearsonCorrelation_KNNBasic =  pipelineObj.set_model_parameters(KNNBasic, sim_options=sim_options_UserBased_PearsonCorrelation, k=40, min_k=1)\n"
      ],
      "execution_count": 14,
      "outputs": []
    },
    {
      "cell_type": "code",
      "metadata": {
        "colab": {
          "base_uri": "https://localhost:8080/"
        },
        "id": "s8Mg7FD7XGPE",
        "outputId": "a8ad33b5-e995-4016-d967-3358e4a2f20e"
      },
      "source": [
        "time_UserBased_PearsonCorrelation_KNNBasic, UserBased_PearsonCorrelation_KNNBasic = pipelineObj.evaluate_time_and_train(UserBased_PearsonCorrelation_KNNBasic, trainset)"
      ],
      "execution_count": 15,
      "outputs": [
        {
          "output_type": "stream",
          "text": [
            "Estimating biases using als...\n",
            "Computing the pearson_baseline similarity matrix...\n",
            "Done computing similarity matrix.\n"
          ],
          "name": "stdout"
        }
      ]
    },
    {
      "cell_type": "markdown",
      "metadata": {
        "id": "0m8HdUSgXGPE"
      },
      "source": [
        "## Prediction"
      ]
    },
    {
      "cell_type": "code",
      "metadata": {
        "colab": {
          "base_uri": "https://localhost:8080/"
        },
        "id": "WaBTRh71XGPE",
        "outputId": "ad505b4b-84df-48b3-d33a-ed0afddb4cc1"
      },
      "source": [
        "UserBased_PearsonCorrelation_KNNBasic_predictions = pipelineObj.model_prediction(UserBased_PearsonCorrelation_KNNBasic, testset)\n",
        "UserBased_PearsonCorrelation_KNNBasic_predictions[:5]"
      ],
      "execution_count": 16,
      "outputs": [
        {
          "output_type": "execute_result",
          "data": {
            "text/plain": [
              "[Prediction(uid='907', iid='143', r_ui=5.0, est=4.143168682795533, details={'actual_k': 40, 'was_impossible': False}),\n",
              " Prediction(uid='371', iid='210', r_ui=4.0, est=4.167234022563786, details={'actual_k': 40, 'was_impossible': False}),\n",
              " Prediction(uid='218', iid='42', r_ui=4.0, est=3.4775085715515153, details={'actual_k': 40, 'was_impossible': False}),\n",
              " Prediction(uid='829', iid='170', r_ui=4.0, est=4.190251707736366, details={'actual_k': 40, 'was_impossible': False}),\n",
              " Prediction(uid='733', iid='277', r_ui=1.0, est=3.434149140412287, details={'actual_k': 30, 'was_impossible': False})]"
            ]
          },
          "metadata": {
            "tags": []
          },
          "execution_count": 16
        }
      ]
    },
    {
      "cell_type": "markdown",
      "metadata": {
        "id": "AKgnjH9VXGPE"
      },
      "source": [
        "## Evaluate"
      ]
    },
    {
      "cell_type": "code",
      "metadata": {
        "colab": {
          "base_uri": "https://localhost:8080/"
        },
        "id": "kaHXza_XXGPF",
        "outputId": "2594c296-afa5-4d31-bb9a-5f510aa9996b"
      },
      "source": [
        "rmse_UserBased_PearsonCorrelation, mae_UserBased_PearsonCorrelation = pipelineObj.evaluate_model_rmse_and_mae(UserBased_PearsonCorrelation_KNNBasic_predictions)"
      ],
      "execution_count": 17,
      "outputs": [
        {
          "output_type": "stream",
          "text": [
            "RMSE: 1.0008\n",
            "MAE:  0.7897\n"
          ],
          "name": "stdout"
        }
      ]
    },
    {
      "cell_type": "markdown",
      "metadata": {
        "id": "Byse0ynWXGPF"
      },
      "source": [
        "## 2.3 Item based model using cosine similarity"
      ]
    },
    {
      "cell_type": "markdown",
      "metadata": {
        "id": "z3zVR9VCXGPF"
      },
      "source": [
        "## Training"
      ]
    },
    {
      "cell_type": "code",
      "metadata": {
        "id": "WDJiSXmEXGPF"
      },
      "source": [
        "sim_options_ItemBased_Cosine = {'name': 'cosine',\n",
        "                                'user_based': False  # compute  similarities between item-base\n",
        "                               }"
      ],
      "execution_count": 18,
      "outputs": []
    },
    {
      "cell_type": "code",
      "metadata": {
        "id": "DfMANQPQXGPF"
      },
      "source": [
        "ItemBased_Cosine_KNNBasic = pipelineObj.set_model_parameters(KNNBasic, sim_options=sim_options_ItemBased_Cosine, k=40, min_k=1)"
      ],
      "execution_count": 19,
      "outputs": []
    },
    {
      "cell_type": "code",
      "metadata": {
        "colab": {
          "base_uri": "https://localhost:8080/"
        },
        "id": "XWfESUgpXGPF",
        "outputId": "a4887c34-0250-43e8-ae65-4ca9918af6c6"
      },
      "source": [
        "time_ItemBased_Cosine_KNNBasic, ItemBased_Cosine_KNNBasic = pipelineObj.evaluate_time_and_train(ItemBased_Cosine_KNNBasic, trainset)"
      ],
      "execution_count": 20,
      "outputs": [
        {
          "output_type": "stream",
          "text": [
            "Computing the cosine similarity matrix...\n",
            "Done computing similarity matrix.\n"
          ],
          "name": "stdout"
        }
      ]
    },
    {
      "cell_type": "markdown",
      "metadata": {
        "id": "2QP453FGXGPG"
      },
      "source": [
        "## Prediction"
      ]
    },
    {
      "cell_type": "code",
      "metadata": {
        "colab": {
          "base_uri": "https://localhost:8080/"
        },
        "id": "aIaxJHtEXGPG",
        "outputId": "f190cfb3-32ea-40e9-c976-8dc74da3ec86"
      },
      "source": [
        "ItemBased_Cosine_KNNBasic_predictions = pipelineObj.model_prediction(ItemBased_Cosine_KNNBasic, testset)\n",
        "ItemBased_Cosine_KNNBasic_predictions[:5]"
      ],
      "execution_count": 21,
      "outputs": [
        {
          "output_type": "execute_result",
          "data": {
            "text/plain": [
              "[Prediction(uid='907', iid='143', r_ui=5.0, est=4.674038136709815, details={'actual_k': 40, 'was_impossible': False}),\n",
              " Prediction(uid='371', iid='210', r_ui=4.0, est=4.127176061681991, details={'actual_k': 40, 'was_impossible': False}),\n",
              " Prediction(uid='218', iid='42', r_ui=4.0, est=3.55351608506343, details={'actual_k': 40, 'was_impossible': False}),\n",
              " Prediction(uid='829', iid='170', r_ui=4.0, est=3.549641715257212, details={'actual_k': 40, 'was_impossible': False}),\n",
              " Prediction(uid='733', iid='277', r_ui=1.0, est=3.04966392708432, details={'actual_k': 40, 'was_impossible': False})]"
            ]
          },
          "metadata": {
            "tags": []
          },
          "execution_count": 21
        }
      ]
    },
    {
      "cell_type": "markdown",
      "metadata": {
        "id": "I7Ac40EIXGPG"
      },
      "source": [
        "## Evaluate"
      ]
    },
    {
      "cell_type": "code",
      "metadata": {
        "colab": {
          "base_uri": "https://localhost:8080/"
        },
        "id": "6G7C5oDlXGPG",
        "outputId": "5bc992cf-71ac-4766-cb6c-691d99c9c9db"
      },
      "source": [
        "rmse_ItemBased_Cosine_KNNBasic, mae_ItemBased_Cosine_KNNBasic = pipelineObj.evaluate_model_rmse_and_mae(ItemBased_Cosine_KNNBasic_predictions)"
      ],
      "execution_count": 22,
      "outputs": [
        {
          "output_type": "stream",
          "text": [
            "RMSE: 1.0264\n",
            "MAE:  0.8104\n"
          ],
          "name": "stdout"
        }
      ]
    },
    {
      "cell_type": "markdown",
      "metadata": {
        "id": "WURfabGfXGPG"
      },
      "source": [
        "## 2.4 Item based model using pearson correlation similarity"
      ]
    },
    {
      "cell_type": "markdown",
      "metadata": {
        "id": "PQqjL_LtXGPG"
      },
      "source": [
        "## Training "
      ]
    },
    {
      "cell_type": "code",
      "metadata": {
        "id": "KQCRzUU-XGPG"
      },
      "source": [
        "sim_options_ItemBased_PearsonCorrelation = {'name': 'pearson_baseline',\n",
        "                                            'user_based': False  # compute similarities between item-base\n",
        "                               }"
      ],
      "execution_count": 23,
      "outputs": []
    },
    {
      "cell_type": "code",
      "metadata": {
        "id": "02fEqFjHXGPH"
      },
      "source": [
        "ItemBased_PearsonCorrelation_KNNBasic = pipelineObj.set_model_parameters(KNNBasic, sim_options=sim_options_ItemBased_PearsonCorrelation, k=40, min_k=1)"
      ],
      "execution_count": 24,
      "outputs": []
    },
    {
      "cell_type": "code",
      "metadata": {
        "colab": {
          "base_uri": "https://localhost:8080/"
        },
        "id": "WYkLYLK4XGPH",
        "outputId": "08a88e0c-92c0-4e6d-a9db-4f72d8932c4e"
      },
      "source": [
        "time_ItemBased_PearsonCorrelation_KNNBasic, ItemBased_PearsonCorrelation_KNNBasic = pipelineObj.evaluate_time_and_train(ItemBased_PearsonCorrelation_KNNBasic, trainset)"
      ],
      "execution_count": 25,
      "outputs": [
        {
          "output_type": "stream",
          "text": [
            "Estimating biases using als...\n",
            "Computing the pearson_baseline similarity matrix...\n",
            "Done computing similarity matrix.\n"
          ],
          "name": "stdout"
        }
      ]
    },
    {
      "cell_type": "markdown",
      "metadata": {
        "id": "mTYji0X2XGPH"
      },
      "source": [
        "## Prediction "
      ]
    },
    {
      "cell_type": "code",
      "metadata": {
        "colab": {
          "base_uri": "https://localhost:8080/"
        },
        "id": "Bk82juSQXGPH",
        "outputId": "5e20b23e-be01-4176-c17a-5c79818900cc"
      },
      "source": [
        "ItemBased_PearsonCorrelation_KNNBasic_predictions = pipelineObj.model_prediction(ItemBased_PearsonCorrelation_KNNBasic, testset)\n",
        "ItemBased_PearsonCorrelation_KNNBasic_predictions[:5]"
      ],
      "execution_count": 26,
      "outputs": [
        {
          "output_type": "execute_result",
          "data": {
            "text/plain": [
              "[Prediction(uid='907', iid='143', r_ui=5.0, est=4.811647158658197, details={'actual_k': 40, 'was_impossible': False}),\n",
              " Prediction(uid='371', iid='210', r_ui=4.0, est=4.162009221840273, details={'actual_k': 28, 'was_impossible': False}),\n",
              " Prediction(uid='218', iid='42', r_ui=4.0, est=3.532333118071294, details={'actual_k': 32, 'was_impossible': False}),\n",
              " Prediction(uid='829', iid='170', r_ui=4.0, est=3.7923277092854133, details={'actual_k': 30, 'was_impossible': False}),\n",
              " Prediction(uid='733', iid='277', r_ui=1.0, est=3.1900565766185456, details={'actual_k': 40, 'was_impossible': False})]"
            ]
          },
          "metadata": {
            "tags": []
          },
          "execution_count": 26
        }
      ]
    },
    {
      "cell_type": "markdown",
      "metadata": {
        "id": "6y97cNZZXGPH"
      },
      "source": [
        "## Evaluate"
      ]
    },
    {
      "cell_type": "code",
      "metadata": {
        "colab": {
          "base_uri": "https://localhost:8080/"
        },
        "id": "mZ2Fnx31XGPI",
        "outputId": "8281a2ff-7384-49da-a202-8ea1a9f49aac"
      },
      "source": [
        "rmse_ItemBased_PearsonCorrelation_KNNBasic, mae_ItemBased_PearsonCorrelation_KNNBasic = pipelineObj.evaluate_model_rmse_and_mae(ItemBased_PearsonCorrelation_KNNBasic_predictions)"
      ],
      "execution_count": 27,
      "outputs": [
        {
          "output_type": "stream",
          "text": [
            "RMSE: 0.9956\n",
            "MAE:  0.7815\n"
          ],
          "name": "stdout"
        }
      ]
    },
    {
      "cell_type": "markdown",
      "metadata": {
        "id": "EWcKiX-DXGPI"
      },
      "source": [
        "## 2.5 BaselineOnly model"
      ]
    },
    {
      "cell_type": "markdown",
      "metadata": {
        "id": "b1WqK6CwXGPI"
      },
      "source": [
        "## Training"
      ]
    },
    {
      "cell_type": "code",
      "metadata": {
        "colab": {
          "base_uri": "https://localhost:8080/"
        },
        "id": "TMnujv_bXGPI",
        "outputId": "b9293cce-7c0f-4f99-cbaf-bd07ed78cb8d"
      },
      "source": [
        "print('BaselineOnly model Using SGD')\n",
        "bsl_options = {'method': 'sgd',\n",
        "               'learning_rate': .00005,\n",
        "               }"
      ],
      "execution_count": 28,
      "outputs": [
        {
          "output_type": "stream",
          "text": [
            "BaselineOnly model Using SGD\n"
          ],
          "name": "stdout"
        }
      ]
    },
    {
      "cell_type": "code",
      "metadata": {
        "colab": {
          "base_uri": "https://localhost:8080/"
        },
        "id": "iwM_uwPyXGPJ",
        "outputId": "1ed5a9d5-5a3a-4df1-a164-e3716271e63a"
      },
      "source": [
        "BaselineOnlyModel =  pipelineObj.set_model_parameters(BaselineOnly, bsl_options=bsl_options)\n",
        "time_BaselineOnlyModel, BaselineOnlyModel = pipelineObj.evaluate_time_and_train(BaselineOnlyModel, trainset)"
      ],
      "execution_count": 29,
      "outputs": [
        {
          "output_type": "stream",
          "text": [
            "Estimating biases using sgd...\n"
          ],
          "name": "stdout"
        }
      ]
    },
    {
      "cell_type": "markdown",
      "metadata": {
        "id": "oNJefITJXGPJ"
      },
      "source": [
        "## Prediction"
      ]
    },
    {
      "cell_type": "code",
      "metadata": {
        "colab": {
          "base_uri": "https://localhost:8080/"
        },
        "id": "WCwasGv3XGPJ",
        "outputId": "6d9d7e67-d4d9-4530-bc5a-8fc58befa376"
      },
      "source": [
        "BaselineOnlyModel_predictions = pipelineObj.model_prediction(BaselineOnlyModel, testset)\n",
        "BaselineOnlyModel_predictions[:5]"
      ],
      "execution_count": 30,
      "outputs": [
        {
          "output_type": "execute_result",
          "data": {
            "text/plain": [
              "[Prediction(uid='907', iid='143', r_ui=5.0, est=3.669381430925591, details={'was_impossible': False}),\n",
              " Prediction(uid='371', iid='210', r_ui=4.0, est=3.649878804830684, details={'was_impossible': False}),\n",
              " Prediction(uid='218', iid='42', r_ui=4.0, est=3.5583648631496043, details={'was_impossible': False}),\n",
              " Prediction(uid='829', iid='170', r_ui=4.0, est=3.5818164578986074, details={'was_impossible': False}),\n",
              " Prediction(uid='733', iid='277', r_ui=1.0, est=3.4841382355265065, details={'was_impossible': False})]"
            ]
          },
          "metadata": {
            "tags": []
          },
          "execution_count": 30
        }
      ]
    },
    {
      "cell_type": "markdown",
      "metadata": {
        "id": "T_tLg1HXXGPJ"
      },
      "source": [
        "## Evaluate "
      ]
    },
    {
      "cell_type": "code",
      "metadata": {
        "colab": {
          "base_uri": "https://localhost:8080/"
        },
        "id": "K68SiDDyXGPJ",
        "outputId": "036ce6ae-e6ce-4c51-d6fc-bff5663230bd"
      },
      "source": [
        "rmse_BaselineOnlyModel, mae_BaselineOnlyModel = pipelineObj.evaluate_model_rmse_and_mae(BaselineOnlyModel_predictions)"
      ],
      "execution_count": 31,
      "outputs": [
        {
          "output_type": "stream",
          "text": [
            "RMSE: 1.0826\n",
            "MAE:  0.9042\n"
          ],
          "name": "stdout"
        }
      ]
    },
    {
      "cell_type": "markdown",
      "metadata": {
        "id": "iLzjUDU2XGPJ"
      },
      "source": [
        "## 2.6 NMF model"
      ]
    },
    {
      "cell_type": "markdown",
      "metadata": {
        "id": "-a3OmbsnXGPJ"
      },
      "source": [
        "## Training"
      ]
    },
    {
      "cell_type": "code",
      "metadata": {
        "id": "_8nsZgikXGPK"
      },
      "source": [
        "NMF_model = pipelineObj.set_model_parameters(NMF, n_factors=15, n_epochs=50, biased=False)\n",
        "time_NMF_model, NMF_model = pipelineObj.evaluate_time_and_train(NMF_model, trainset)"
      ],
      "execution_count": 32,
      "outputs": []
    },
    {
      "cell_type": "markdown",
      "metadata": {
        "id": "7dd08AgKXGPK"
      },
      "source": [
        "## Prediction"
      ]
    },
    {
      "cell_type": "code",
      "metadata": {
        "colab": {
          "base_uri": "https://localhost:8080/"
        },
        "id": "acQwF-kEXGPK",
        "outputId": "c91b0033-f740-4c87-d9ac-74971220ee1d"
      },
      "source": [
        "NMF_model_predictions = pipelineObj.model_prediction(NMF_model, testset)\n",
        "NMF_model_predictions[:5]"
      ],
      "execution_count": 33,
      "outputs": [
        {
          "output_type": "execute_result",
          "data": {
            "text/plain": [
              "[Prediction(uid='907', iid='143', r_ui=5.0, est=4.515897329707489, details={'was_impossible': False}),\n",
              " Prediction(uid='371', iid='210', r_ui=4.0, est=3.785705326759703, details={'was_impossible': False}),\n",
              " Prediction(uid='218', iid='42', r_ui=4.0, est=3.619634258317797, details={'was_impossible': False}),\n",
              " Prediction(uid='829', iid='170', r_ui=4.0, est=4.012293565427321, details={'was_impossible': False}),\n",
              " Prediction(uid='733', iid='277', r_ui=1.0, est=3.4734777215902275, details={'was_impossible': False})]"
            ]
          },
          "metadata": {
            "tags": []
          },
          "execution_count": 33
        }
      ]
    },
    {
      "cell_type": "markdown",
      "metadata": {
        "id": "vNdZ_i4eXGPK"
      },
      "source": [
        "## Evaluate"
      ]
    },
    {
      "cell_type": "code",
      "metadata": {
        "colab": {
          "base_uri": "https://localhost:8080/"
        },
        "id": "3ur-COYUXGPK",
        "outputId": "c6aef3c9-2a60-4c8c-e029-e7e4e9b51b2a"
      },
      "source": [
        "rmse_NMF_model, mae_NMF_model = pipelineObj.evaluate_model_rmse_and_mae(NMF_model_predictions)"
      ],
      "execution_count": 34,
      "outputs": [
        {
          "output_type": "stream",
          "text": [
            "RMSE: 0.9674\n",
            "MAE:  0.7613\n"
          ],
          "name": "stdout"
        }
      ]
    },
    {
      "cell_type": "markdown",
      "metadata": {
        "id": "4luIgoUdXGPK"
      },
      "source": [
        "## 2.7 SVD model"
      ]
    },
    {
      "cell_type": "markdown",
      "metadata": {
        "id": "nX2tLwtEXGPK"
      },
      "source": [
        "## Training"
      ]
    },
    {
      "cell_type": "code",
      "metadata": {
        "id": "rjFZ7MZKXGPL"
      },
      "source": [
        "SVD_model = pipelineObj.set_model_parameters(SVD, n_factors=15, n_epochs=50, biased=False, verbose=False)\n",
        "time_SVD_model, SVD_model = pipelineObj.evaluate_time_and_train(SVD_model, trainset)"
      ],
      "execution_count": 35,
      "outputs": []
    },
    {
      "cell_type": "markdown",
      "metadata": {
        "id": "ccX2kHQ1XGPL"
      },
      "source": [
        "## Prediction"
      ]
    },
    {
      "cell_type": "code",
      "metadata": {
        "colab": {
          "base_uri": "https://localhost:8080/"
        },
        "id": "H8KEAWU2XGPL",
        "outputId": "2f0837a8-c6d6-43c3-b15c-ee741f6e4ddd"
      },
      "source": [
        "SVD_model_predictions = pipelineObj.model_prediction(SVD_model, testset)\n",
        "SVD_model_predictions[:5]"
      ],
      "execution_count": 36,
      "outputs": [
        {
          "output_type": "execute_result",
          "data": {
            "text/plain": [
              "[Prediction(uid='907', iid='143', r_ui=5.0, est=4.181844015030655, details={'was_impossible': False}),\n",
              " Prediction(uid='371', iid='210', r_ui=4.0, est=4.267549778873097, details={'was_impossible': False}),\n",
              " Prediction(uid='218', iid='42', r_ui=4.0, est=3.5568687261909595, details={'was_impossible': False}),\n",
              " Prediction(uid='829', iid='170', r_ui=4.0, est=3.7726928723469286, details={'was_impossible': False}),\n",
              " Prediction(uid='733', iid='277', r_ui=1.0, est=3.0106432922670225, details={'was_impossible': False})]"
            ]
          },
          "metadata": {
            "tags": []
          },
          "execution_count": 36
        }
      ]
    },
    {
      "cell_type": "markdown",
      "metadata": {
        "id": "OH2TvbUSXGPL"
      },
      "source": [
        "## Evaluate "
      ]
    },
    {
      "cell_type": "code",
      "metadata": {
        "colab": {
          "base_uri": "https://localhost:8080/"
        },
        "id": "96a3ydXqXGPL",
        "outputId": "30db6b38-1631-4d1d-d842-a360a9169e84"
      },
      "source": [
        "rmse_SVD_model, mae_SVD_model = pipelineObj.evaluate_model_rmse_and_mae(SVD_model_predictions)"
      ],
      "execution_count": 37,
      "outputs": [
        {
          "output_type": "stream",
          "text": [
            "RMSE: 0.9563\n",
            "MAE:  0.7458\n"
          ],
          "name": "stdout"
        }
      ]
    },
    {
      "cell_type": "markdown",
      "metadata": {
        "id": "Id8dMj13XGPL"
      },
      "source": [
        "## 2.8 SVDpp model"
      ]
    },
    {
      "cell_type": "markdown",
      "metadata": {
        "id": "eXc39MJTXGPL"
      },
      "source": [
        "## Training"
      ]
    },
    {
      "cell_type": "code",
      "metadata": {
        "id": "aCniJ_gEXGPM"
      },
      "source": [
        "SVDpp_model = pipelineObj.set_model_parameters(SVDpp, n_factors=15, n_epochs=10, init_mean=0, verbose=False)\n",
        "time_SVDpp_model, SVDpp_model = pipelineObj.evaluate_time_and_train(SVDpp_model, trainset)"
      ],
      "execution_count": 38,
      "outputs": []
    },
    {
      "cell_type": "markdown",
      "metadata": {
        "id": "SiA5Z2rHXGPM"
      },
      "source": [
        "## Prediction"
      ]
    },
    {
      "cell_type": "code",
      "metadata": {
        "colab": {
          "base_uri": "https://localhost:8080/"
        },
        "id": "d6d3Qk0_XGPM",
        "outputId": "2ef74190-3a44-4ea1-d6ec-096a5d856ada"
      },
      "source": [
        "SVDpp_model_predictions = pipelineObj.model_prediction(SVDpp_model, testset)\n",
        "SVDpp_model_predictions[:5]"
      ],
      "execution_count": 39,
      "outputs": [
        {
          "output_type": "execute_result",
          "data": {
            "text/plain": [
              "[Prediction(uid='907', iid='143', r_ui=5.0, est=4.823985186972309, details={'was_impossible': False}),\n",
              " Prediction(uid='371', iid='210', r_ui=4.0, est=4.32088727471396, details={'was_impossible': False}),\n",
              " Prediction(uid='218', iid='42', r_ui=4.0, est=3.370758672731467, details={'was_impossible': False}),\n",
              " Prediction(uid='829', iid='170', r_ui=4.0, est=3.943285270220849, details={'was_impossible': False}),\n",
              " Prediction(uid='733', iid='277', r_ui=1.0, est=3.054790180449969, details={'was_impossible': False})]"
            ]
          },
          "metadata": {
            "tags": []
          },
          "execution_count": 39
        }
      ]
    },
    {
      "cell_type": "markdown",
      "metadata": {
        "id": "YZcZpsMrXGPM"
      },
      "source": [
        "## Evaluate"
      ]
    },
    {
      "cell_type": "code",
      "metadata": {
        "colab": {
          "base_uri": "https://localhost:8080/"
        },
        "id": "x98UcF2SXGPM",
        "outputId": "ec2e9eac-35a0-4641-e3e0-f6ec029d20db"
      },
      "source": [
        "rmse_SVDpp_model, mae_SVDpp_model = pipelineObj.evaluate_model_rmse_and_mae(SVDpp_model_predictions)"
      ],
      "execution_count": 40,
      "outputs": [
        {
          "output_type": "stream",
          "text": [
            "RMSE: 0.9274\n",
            "MAE:  0.7324\n"
          ],
          "name": "stdout"
        }
      ]
    },
    {
      "cell_type": "markdown",
      "metadata": {
        "id": "7kWRTDCCXGPM"
      },
      "source": [
        "# 3. Model Benchmarking"
      ]
    },
    {
      "cell_type": "code",
      "metadata": {
        "id": "JuzGoUE5XGPM"
      },
      "source": [
        "benchmark_metrics = ['User-based CF with cosine similarity', 'User-based CF with pearson correlation similarity', \n",
        "                     'Item-based CF with cosine similarity', 'Item-based CF with pearson correlation similarity',\n",
        "                    'BaselineOnly model','NMF', 'SVD', 'SVDpp']"
      ],
      "execution_count": 41,
      "outputs": []
    },
    {
      "cell_type": "code",
      "metadata": {
        "id": "w58Wkx21XGPM"
      },
      "source": [
        "RMSE_values = [rmse_UserBased_Cosine_KNNBasic, rmse_UserBased_PearsonCorrelation,\n",
        "              rmse_ItemBased_Cosine_KNNBasic, rmse_ItemBased_PearsonCorrelation_KNNBasic,\n",
        "               rmse_BaselineOnlyModel, rmse_NMF_model, rmse_SVD_model, rmse_SVDpp_model]\n"
      ],
      "execution_count": 42,
      "outputs": []
    },
    {
      "cell_type": "code",
      "metadata": {
        "id": "zxHzupEzXGPN"
      },
      "source": [
        "mae_values = [mae_UserBased_Cosine_KNNBasic, mae_UserBased_PearsonCorrelation,\n",
        "              mae_ItemBased_Cosine_KNNBasic, mae_ItemBased_PearsonCorrelation_KNNBasic,\n",
        "              mae_BaselineOnlyModel, mae_NMF_model, mae_SVD_model, mae_SVDpp_model]"
      ],
      "execution_count": 43,
      "outputs": []
    },
    {
      "cell_type": "code",
      "metadata": {
        "colab": {
          "base_uri": "https://localhost:8080/"
        },
        "id": "5x095Y_fZ2q6",
        "outputId": "5ec2ecd6-3619-48e6-eec0-ddc709d5c75f"
      },
      "source": [
        "print(\" rmse :\\n\",RMSE_values)\r\n",
        "print(\"\\nMAE :\\n\",mae_values)"
      ],
      "execution_count": 44,
      "outputs": [
        {
          "output_type": "stream",
          "text": [
            " rmse :\n",
            " [1.0193536815834319, 1.0007997542372822, 1.0264295933767333, 0.9956191381781974, 1.0826305578193065, 0.9674461356576417, 0.956315995165607, 0.9273798860854161]\n",
            "\n",
            "MAE :\n",
            " [0.8037993357440609, 0.7897024955421307, 0.8103814466470565, 0.7814939175231924, 0.904156628093278, 0.7612759967304713, 0.7458299283785572, 0.7324392451216534]\n"
          ],
          "name": "stdout"
        }
      ]
    }
  ]
}